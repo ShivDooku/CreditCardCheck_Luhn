{
 "cells": [
  {
   "cell_type": "markdown",
   "metadata": {},
   "source": [
    "# Luhn's Algorithm to check credit card validity"
   ]
  },
  {
   "cell_type": "markdown",
   "metadata": {},
   "source": [
    "1.Double every second digit from right to left. If this “doubling” results in a two-digit number, subtract 9 from it get a single digit.\n",
    "2.Now add all single digit numbers from step 1.\n",
    "3.Add all digits in the odd places from right to left in the credit card number.\n",
    "4.Sum the results from steps 2 & 3.\n",
    "5.If the result from step 4 is divisible by 10, the card number is valid; otherwise, it is invalid.\n",
    "\n",
    "\n",
    "In order to go from \"right to left\", I have reversed the ccint list, which is a list of integers from the cc input."
   ]
  },
  {
   "cell_type": "code",
   "execution_count": 1,
   "metadata": {},
   "outputs": [],
   "source": [
    "import re"
   ]
  },
  {
   "cell_type": "code",
   "execution_count": 4,
   "metadata": {},
   "outputs": [],
   "source": [
    "def ccheck():\n",
    "    cc = list(re.sub(\" \", \"\", input(\"Enter credit card number: \")))\n",
    "    ccint = list(map(int,cc))\n",
    "    ccrev = list(ccint[::-1])\n",
    "    \n",
    "    odd = []\n",
    "    even = []\n",
    "    for o in ccrev[0:len(ccint):2]:\n",
    "        odd.append(o)\n",
    "    for e in ccrev[1:len(ccint):2]:\n",
    "        if e*2 >= 10:\n",
    "            even.append((e*2)-9)\n",
    "        else:\n",
    "            even.append(e*2)\n",
    "    \n",
    "    total = sum(odd) + sum(even)\n",
    "    \n",
    "    if total%10 == 0:\n",
    "        return(\"Valid\")\n",
    "    else:\n",
    "        return(\"Invalid\")\n",
    "    "
   ]
  },
  {
   "cell_type": "code",
   "execution_count": 8,
   "metadata": {},
   "outputs": [
    {
     "name": "stdout",
     "output_type": "stream",
     "text": [
      "Enter credit card number: 3530111333300000\n"
     ]
    },
    {
     "data": {
      "text/plain": [
       "'Valid'"
      ]
     },
     "execution_count": 8,
     "metadata": {},
     "output_type": "execute_result"
    }
   ],
   "source": [
    "ccheck()"
   ]
  }
 ],
 "metadata": {
  "kernelspec": {
   "display_name": "Python 3",
   "language": "python",
   "name": "python3"
  },
  "language_info": {
   "codemirror_mode": {
    "name": "ipython",
    "version": 3
   },
   "file_extension": ".py",
   "mimetype": "text/x-python",
   "name": "python",
   "nbconvert_exporter": "python",
   "pygments_lexer": "ipython3",
   "version": "3.7.6"
  }
 },
 "nbformat": 4,
 "nbformat_minor": 4
}
